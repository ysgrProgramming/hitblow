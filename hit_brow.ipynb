{
  "cells": [
    {
      "cell_type": "markdown",
      "metadata": {
        "id": "view-in-github",
        "colab_type": "text"
      },
      "source": [
        "<a href=\"https://colab.research.google.com/github/ysgrProgramming/hitblow/blob/main/hit_brow.ipynb\" target=\"_parent\"><img src=\"https://colab.research.google.com/assets/colab-badge.svg\" alt=\"Open In Colab\"/></a>"
      ]
    },
    {
      "cell_type": "markdown",
      "source": [
        "# HitBlowの完全解析ツール\n",
        "解析は以下の手順にて行う。\n",
        "\n",
        "1. 桁数と使用する数字の種類数を指定し、Analyze_Seedを生成\n",
        "2. Analyze_Hitblowに生成したAnalyze_Seedを渡し、analyze_xxx_treeでtree_list, paramsを生成。tree_listにはどのように質問するべきかの手順が含まれている。paramsにはtree_listについて最大深さ、ノード数等の簡易的な情報が含まれている。\n",
        "3. Analyze_Displayにtree_listを渡すことで手順を画像に変換し、視覚的にわかりやすくする。\n",
        "\n",
        "以上の操作によって、任意の桁数と数字の種類数によるHitBlowの解析を行うことができる。"
      ],
      "metadata": {
        "id": "RtbRFcQt8A86"
      }
    },
    {
      "cell_type": "markdown",
      "source": [
        "## 解析道具の構築"
      ],
      "metadata": {
        "id": "uy3bYZH_CskG"
      }
    },
    {
      "cell_type": "markdown",
      "source": [
        "### 必要モジュールのインポート、設定"
      ],
      "metadata": {
        "id": "jPeUkvze_ead"
      }
    },
    {
      "cell_type": "code",
      "execution_count": 28,
      "metadata": {
        "id": "bqTKwtUXVSB8"
      },
      "outputs": [],
      "source": [
        "import numpy as np\n",
        "import matplotlib.pyplot as plt\n",
        "from itertools import permutations, combinations\n",
        "from graphviz import Digraph\n",
        "import random\n",
        "import time\n",
        "\n",
        "config = {\n",
        "    'xtick.direction': 'in',\n",
        "    'ytick.direction': 'in',\n",
        "    'xtick.major.width': 1.0,\n",
        "    'ytick.major.width': 1.0,\n",
        "    'font.size': 14,\n",
        "    'axes.linewidth': 1.0,\n",
        "    'figure.dpi': 144\n",
        "}\n",
        "plt.rcParams.update(config)"
      ]
    },
    {
      "cell_type": "markdown",
      "source": [
        "### Analyze_Seed\n",
        "\n",
        "解析したいHitBlowの桁数と数字の種類数を入力することで、解析に必要な最適化された関数を作成する。"
      ],
      "metadata": {
        "id": "WT8o_mQb_zkl"
      }
    },
    {
      "cell_type": "code",
      "execution_count": 2,
      "metadata": {
        "id": "3cbMrnCtVSCF"
      },
      "outputs": [],
      "source": [
        "class Analyze_Seed:\n",
        "    def __init__(self, digit_size, num_size):\n",
        "        self.digit_size, self.num_size = digit_size, num_size\n",
        "\n",
        "        #judge_table作成\n",
        "        self.judge_table = {}\n",
        "        \n",
        "        for pat1 in permutations(range(num_size), digit_size):\n",
        "            for pat2 in permutations(range(num_size), digit_size):\n",
        "                self.judge_table[(pat1, pat2)] = self.judge_hb_temp(pat1, pat2)\n",
        "        \n",
        "        #judge_pat_list、judge_pat_dict作成\n",
        "        self.judge_pat_size = (digit_size+1)*(digit_size+2)//2\n",
        "        self.judge_pat_list = []\n",
        "        for i in range(digit_size, -1, -1):\n",
        "            for j in range(digit_size-i, -1, -1):\n",
        "                self.judge_pat_list.append((i, j))\n",
        "        self.judge_pat_dict = {v:u for u, v in enumerate(self.judge_pat_list)}\n",
        "        self.registed_set = set()\n",
        "        \n",
        "        self.pat_length = 1\n",
        "        for i in range(num_size, num_size-digit_size, -1):\n",
        "            self.pat_length *= i\n",
        "        self.min_depth_sum_of_length_table = {i: self.min_depth_sum_of_length_temp(i) for i in range(self.pat_length+1)}\n",
        "\n",
        "        print(\"initialize completed\")\n",
        "    \n",
        "    #初期化時のみ使う_temp\n",
        "    def judge_hb_temp(self, num1, num2):\n",
        "        hit, blow = 0, 0\n",
        "        for i in range(self.digit_size):\n",
        "            for j in range(self.digit_size):\n",
        "                if num1[i] == num2[j]:\n",
        "                    if i == j: hit += 1\n",
        "                    else: blow += 1\n",
        "                    break\n",
        "        return hit, blow\n",
        "\n",
        "    def min_depth_sum_of_length_temp(self, length):\n",
        "        total = 0\n",
        "        count = 0\n",
        "        while length > 0:\n",
        "            total += length\n",
        "            length -= (self.judge_pat_size-2)**count\n",
        "            count += 1\n",
        "        return total\n",
        "\n",
        "    #解析ツール\n",
        "    def judge_hb(self, num1, num2):\n",
        "        return self.judge_table[(num1, num2)]\n",
        "    \n",
        "    def produce_pat_set(self, history_pat_set):\n",
        "        pat_set = set()\n",
        "        already_exists = set()\n",
        "        max_num = -1\n",
        "        for pat in history_pat_set:\n",
        "            max_num = max(max_num, max(pat))\n",
        "        \n",
        "        for pat in permutations(range(min(self.num_size, max_num+3)), self.digit_size):\n",
        "            judge_list = []\n",
        "            \n",
        "            for num in history_pat_set:\n",
        "                judge = self.judge_hb(num, pat)\n",
        "                judge_list.append(judge)\n",
        "            judge_tuple = tuple(judge_list)\n",
        "            if judge_tuple not in already_exists:\n",
        "                pat_set.add(pat)\n",
        "                already_exists.add(judge_tuple)\n",
        "            \n",
        "        if max_num < self.num_size-self.digit_size: pat_set.add(tuple(max_num+i+1 for i in range(self.digit_size)))\n",
        "        pat_set.difference_update(history_pat_set)\n",
        "        return pat_set\n",
        "    \n",
        "    def distribute_pats(self, key_pat, pat_set):\n",
        "        sorted_list = [set() for _ in range(self.judge_pat_size)]\n",
        "        for pat in pat_set:\n",
        "            hb = self.judge_hb(key_pat, pat)\n",
        "            index = self.judge_pat_dict[hb]\n",
        "            sorted_list[index].add(pat)\n",
        "        return sorted_list\n",
        "\n",
        "    def min_depth_sum_of_length(self, length):\n",
        "        return self.min_depth_sum_of_length_table[length]\n",
        "    \n",
        "    #木の解析\n",
        "    def meajure_tree_max_depth(self, tree_list):\n",
        "        max_depth = 0\n",
        "        if tree_list[0] != None: max_depth = 1\n",
        "        for tree in tree_list[1:-1]:\n",
        "            if type(tree) == tuple: max_depth = max(max_depth, 2)\n",
        "            elif type(tree) == list: max_depth = max(max_depth, self.meajure_tree_max_depth(tree)+1)\n",
        "        return max_depth\n",
        "    \n",
        "    def meajure_tree_depth_sum(self, tree_list, depth):\n",
        "        depth_sum = 0\n",
        "        if tree_list[0] != None: depth_sum += depth\n",
        "        for tree in tree_list[1:-1]:\n",
        "            if type(tree) == tuple: depth_sum += depth+1\n",
        "            elif type(tree) == list: depth_sum += self.meajure_tree_depth_sum(tree, depth+1)\n",
        "        return depth_sum\n",
        "\n",
        "    #todo: 不必要にする\n",
        "    def pats_length(self, question_pat_set, left):\n",
        "        pat_set = self.produce_pat_set(question_pat_set)\n",
        "        if left == 1: return len(pat_set)\n",
        "        \n",
        "        length = 0\n",
        "        for pat in pat_set:\n",
        "            length += self.pats_length(question_pat_set | {pat}, left-1)\n",
        "    \n",
        "        return length\n",
        "    \n",
        "    def regist(self, pat):\n",
        "        self.registed_set.add(pat)\n"
      ]
    },
    {
      "cell_type": "markdown",
      "source": [
        "#### Analyze_Seedによる最適化\n",
        "例えばjudge_hbは２つのパターンを比較しhit数とblow数を生成する。\n",
        "各桁の参照をするとdigit_numの二乗に比例する時間が必要だが、テーブルを作成することで$O(1)$での処理時間に最適化した。\n",
        "\n",
        "最適化前のjudge_hb_tempと最適化後のjudge_hbの処理時間の違いを以下のコードに示す。"
      ],
      "metadata": {
        "id": "Nn17U3VsC7BL"
      }
    },
    {
      "cell_type": "code",
      "source": [
        "AS = Analyze_Seed(3, 10)\n",
        "query1 = (0, 1, 2)\n",
        "query2 = (0, 2, 5)\n",
        "\n",
        "%timeit AS.judge_hb(query1, query2)\n",
        "%timeit AS.judge_hb_temp(query1, query2)\n",
        "hit, blow = AS.judge_hb(query1, query2)\n",
        "\n",
        "print(\"-\"*20)\n",
        "print(\"judge:\", query1, query2, \"= {0}hit {1}blow\".format(hit, blow))"
      ],
      "metadata": {
        "colab": {
          "base_uri": "https://localhost:8080/"
        },
        "id": "JA_J9gk0EaND",
        "outputId": "d0c8cad0-b974-4b64-ee90-a0ec424c76bc"
      },
      "execution_count": 3,
      "outputs": [
        {
          "output_type": "stream",
          "name": "stdout",
          "text": [
            "initialize completed\n",
            "The slowest run took 19.31 times longer than the fastest. This could mean that an intermediate result is being cached.\n",
            "1000000 loops, best of 5: 311 ns per loop\n",
            "100000 loops, best of 5: 4.07 µs per loop\n",
            "--------------------\n",
            "judge: (0, 1, 2) (0, 2, 5) = 1hit 1blow\n"
          ]
        }
      ]
    },
    {
      "cell_type": "markdown",
      "source": [
        "### Analyze_Hitblow\n",
        "Analyze_Seedで作成したSeedを渡し、analyze_xxx_treeを実行することで解析を行う。analyze_xxx_treeには以下の種類がある。\n",
        "\n",
        "- analyze_fastest_tree(limit=float('inf')): 動作が高速だが、必要最小手順を探索することのみを目的とするため、手順が効率的とは限らない。limitは探索打ち切り手数を表す。\n",
        "\n",
        "- analyze_earnest_tree(limit=float('inf')): 最も手数の期待値を少なくすることを目的とする。fastestに比べて動作が遅い。limitは探索打ち切りする合計深さを表す。\n",
        "\n",
        "これらの関数はtree_listとparamsを戻り値とする。tree_listはPractice_Hitblowと合わせて使用し、paramsは解析結果の概観を知らせる。"
      ],
      "metadata": {
        "id": "Upda8PMSJy1w"
      }
    },
    {
      "cell_type": "code",
      "execution_count": 23,
      "metadata": {
        "id": "9WCAD3-aYLNb"
      },
      "outputs": [],
      "source": [
        "class Analyze_Hitblow():\n",
        "    def __init__(self, Seed, print_interval_time=float('inf')):\n",
        "        self.Seed = Seed\n",
        "\n",
        "        self.loop_count = 0\n",
        "\n",
        "        self.print_interval_time = print_interval_time\n",
        "        self.start_time = 0\n",
        "        self.previous_time = 0\n",
        "\n",
        "    #fastest_tree\n",
        "    def find_fastest_tree(self, key_pat, possible_pat_set, memo, limit=float('inf')):\n",
        "        self.time_keeper()\n",
        "        judge_pat_size = self.Seed.judge_pat_size\n",
        "        regist = self.Seed.regist\n",
        "\n",
        "        dp_list = self.Seed.distribute_pats(key_pat, possible_pat_set)\n",
        "        \n",
        "        #絞り込み失敗時にスキップ\n",
        "        for dp in dp_list:\n",
        "            if dp:\n",
        "                if len(dp) == len(possible_pat_set):\n",
        "                    return None, float('inf')\n",
        "                else: break\n",
        "\n",
        "        pat_history = memo | {key_pat}\n",
        "        next_pat_set = self.Seed.produce_pat_set(pat_history)\n",
        "        max_depth = 0\n",
        "        tree_list = [None]*judge_pat_size\n",
        "\n",
        "        if len(dp_list[0]) == 1:\n",
        "            tree_list[0] = dp_list[0].pop()\n",
        "            regist(tree_list[0])\n",
        "        \n",
        "        loop_list = sorted([(i, len(dp_list[i])) for i in range(1, judge_pat_size)], key=lambda x:x[1], reverse=True)\n",
        "        for i, l in loop_list:\n",
        "            dp = dp_list[i]\n",
        "            min_count = limit\n",
        "\n",
        "            #limit以下での探索が不可能\n",
        "            if len(dp) > (judge_pat_size-2)**(limit-2):\n",
        "                return None, float('inf')\n",
        "\n",
        "            #dpの長さが2以下の特殊ケース\n",
        "            if len(dp) == 2:\n",
        "                a = dp.pop()\n",
        "                dp.add(a)\n",
        "                tree, depth = self.find_fastest_tree(a, dp, set())\n",
        "                max_depth = max(max_depth, depth)\n",
        "                tree_list[i] = tree\n",
        "                continue\n",
        "            elif len(dp) == 1:\n",
        "                tree_list[i] = dp.pop()\n",
        "                max_depth = max(max_depth, 1)\n",
        "                regist(tree_list[i])\n",
        "                continue\n",
        "            elif len(dp) == 0:\n",
        "                continue\n",
        "\n",
        "            #子となる木を探索\n",
        "            for pat in next_pat_set:\n",
        "                tree, depth = self.find_fastest_tree(pat, dp, pat_history, min_count-1)\n",
        "                if tree != None:\n",
        "                    min_count = depth\n",
        "                    tree_list[i] = tree\n",
        "            if tree_list[i] == None: return None, float('inf')\n",
        "            max_depth = max(min_count, max_depth)\n",
        "\n",
        "        tree_list.append(key_pat)\n",
        "        return tree_list, max_depth+1\n",
        "    \n",
        "    def analyze_fastest_tree(self, limit=float('inf')):\n",
        "        pat = self.Seed.produce_pat_set(set()).pop()\n",
        "\n",
        "        self.start_time = time.time()\n",
        "        self.previous_time = self.start_time\n",
        "        tree_list, depth = self.find_fastest_tree(pat, set(permutations(range(self.Seed.num_size), self.Seed.digit_size)), set(), limit)\n",
        "        print(\"analyze completed\")\n",
        "\n",
        "        if tree_list == None: return None, dict()\n",
        "        else: params = self.generate_params(tree_list)\n",
        "        print(\"params setted\")\n",
        "\n",
        "        return tree_list, params\n",
        "\n",
        "    #earnest_tree\n",
        "    def find_earnest_tree(self, key_pat, possible_pat_set, memo, limit_depth_sum=float('inf')):\n",
        "        self.time_keeper()\n",
        "        judge_pat_size = self.Seed.judge_pat_size\n",
        "        regist = self.Seed.regist\n",
        "\n",
        "        dp_list = self.Seed.distribute_pats(key_pat, possible_pat_set)\n",
        "\n",
        "        #絞り込み失敗時にスキップ\n",
        "        for dp in dp_list:\n",
        "            if dp:\n",
        "                if len(dp) == len(possible_pat_set):\n",
        "                    return None, float('inf')\n",
        "                else: break\n",
        "        \n",
        "        pat_history = memo | {key_pat}\n",
        "        next_pat_set = self.Seed.produce_pat_set(pat_history)\n",
        "        depth_sum = len(possible_pat_set)+sum([self.Seed.min_depth_sum_of_length(len(dp)) for dp in dp_list[1:]])\n",
        "        if depth_sum >= limit_depth_sum: return None, float('inf')\n",
        "        tree_list = [None]*judge_pat_size\n",
        "        \n",
        "        if len(dp_list[0]) == 1: tree_list[0] = dp_list[0].pop()\n",
        "        loop_list = sorted([(i, len(dp_list[i])) for i in range(1, judge_pat_size)], key=lambda x:x[1])\n",
        "        for i, l in loop_list:\n",
        "            dp = dp_list[i]\n",
        "            depth_sum -= self.Seed.min_depth_sum_of_length(len(dp))\n",
        "            min_depth = limit_depth_sum-depth_sum\n",
        "\n",
        "            #dpの長さが2以下の特殊ケース\n",
        "            if len(dp) == 2:\n",
        "                a = dp.pop()\n",
        "                dp.add(a)\n",
        "                tree, tree_depth = self.find_earnest_tree(a, dp, set())\n",
        "                tree_list[i] = tree\n",
        "                depth_sum += 3\n",
        "                continue\n",
        "            elif len(dp) == 1:\n",
        "                tree_list[i] = dp.pop()\n",
        "                depth_sum += 1\n",
        "                regist(tree_list[i])\n",
        "                continue\n",
        "            elif len(dp) == 0: continue\n",
        "\n",
        "            #子となる木を探索\n",
        "            for pat in next_pat_set:\n",
        "                tree, tree_depth = self.find_earnest_tree(pat, dp, pat_history, min_depth)\n",
        "                if tree != None:\n",
        "                    #print(\"○\", tree, min_depth, tree_depth)\n",
        "                    min_depth = tree_depth\n",
        "                    tree_list[i] = tree\n",
        "            if tree_list[i] == None: return None, float('inf')\n",
        "            depth_sum += min_depth\n",
        "\n",
        "        tree_list.append(key_pat)\n",
        "        return tree_list, depth_sum\n",
        "    \n",
        "    def analyze_earnest_tree(self, limit=float('inf')):\n",
        "        pat = self.Seed.produce_pat_set(set()).pop()\n",
        "\n",
        "        self.start_time = time.time()\n",
        "        self.previous_time = self.start_time\n",
        "        tree_list, depth_sum = self.find_earnest_tree(pat, set(permutations(range(self.Seed.num_size), self.Seed.digit_size)), set(), limit+1)\n",
        "        print(\"analyze completed\")\n",
        "\n",
        "        if tree_list == None: return None, dict()\n",
        "        else: params = self.generate_params(tree_list)\n",
        "        print(\"params setted\")\n",
        "\n",
        "        return tree_list, params\n",
        "\n",
        "    def time_keeper(self):\n",
        "        elapsed_time = time.time()-self.previous_time\n",
        "        self.loop_count += 1\n",
        "        if elapsed_time >= self.print_interval_time:\n",
        "            self.previous_time += self.print_interval_time\n",
        "            print(\"elapsed time =\", self.previous_time-self.start_time, \"s\")\n",
        "            print(\"loop_count =\", self.loop_count)\n",
        "            print(\"registed count =\", len(self.Seed.registed_set))\n",
        "            print()\n",
        "\n",
        "    def generate_params(self, tree_list):\n",
        "        params = dict()\n",
        "        params[\"max_depth\"] = self.Seed.meajure_tree_max_depth(tree_list)\n",
        "        params[\"depth_sum\"] = self.Seed.meajure_tree_depth_sum(tree_list, 1)\n",
        "        params[\"node_num\"] = self.Seed.pat_length\n",
        "        params[\"depth_mean\"] = params[\"depth_sum\"]/params[\"node_num\"]\n",
        "        params[\"elapsed_time(s)\"] = time.time()-self.start_time\n",
        "        return params"
      ]
    },
    {
      "cell_type": "markdown",
      "source": [
        "#### サンプル\n",
        "\n",
        "3桁×7種の場合について主要パラメータを表示する"
      ],
      "metadata": {
        "id": "k2SW9HDSCcfc"
      }
    },
    {
      "cell_type": "code",
      "source": [
        "Seed = Analyze_Seed(3, 7)\n",
        "AH = Analyze_Hitblow(Seed, 5)\n",
        "\n",
        "tree_list, params = AH.analyze_earnest_tree()\n",
        "\n",
        "params"
      ],
      "metadata": {
        "colab": {
          "base_uri": "https://localhost:8080/"
        },
        "id": "QhiuQ0A9CuyT",
        "outputId": "92dddb65-84a7-4c7a-a47f-8d41c8b826b9"
      },
      "execution_count": 24,
      "outputs": [
        {
          "output_type": "stream",
          "name": "stdout",
          "text": [
            "initialize completed\n",
            "elapsed time = 5.0 s\n",
            "loop_count = 11598\n",
            "registed count = 202\n",
            "\n",
            "elapsed time = 10.0 s\n",
            "loop_count = 22500\n",
            "registed count = 206\n",
            "\n",
            "analyze completed\n",
            "params setted\n"
          ]
        },
        {
          "output_type": "execute_result",
          "data": {
            "text/plain": [
              "{'depth_mean': 4.033333333333333,\n",
              " 'depth_sum': 847,\n",
              " 'elapsed_time(s)': 11.186128854751587,\n",
              " 'max_depth': 5,\n",
              " 'node_num': 210}"
            ]
          },
          "metadata": {},
          "execution_count": 24
        }
      ]
    },
    {
      "cell_type": "markdown",
      "source": [
        "### Practice_Hitblow\n",
        "\n",
        "Analyze_Hitblowによる解析結果となるtree_listを、より視覚的＆実用的にする。\n",
        "\n",
        "- export_as_graph(name, chr_list=None, graph_layout=\"dot\"): tree_listを木グラフ画像(.png)に変換する。nameはファイル名、chr_listは数字をchr_listに変換、graph_layoutは、graphvizの設定に使う。\n",
        "- process_queries(make_random=True, tree_list=None): 解析結果に基づいて、対話形式で手順を指示する。\"Answer this:\"に対して、`0 2`や`1 1`のようにhitとblowの結果を半角区切りで入力することで、新たな指示が出力される。make_randomをFalseにすると0に近い数字から始まる。tree_listは内部で使う。\n",
        "\n",
        "- count_by_depth(tree_list = None, max_depth=-1): 木の深さとその数をまとめたリストを返す。tree_list, max_depthは内部で使う。"
      ],
      "metadata": {
        "id": "oV9cUqgYChOb"
      }
    },
    {
      "cell_type": "code",
      "execution_count": 6,
      "metadata": {
        "id": "cyt5qQ2HZKbJ"
      },
      "outputs": [],
      "source": [
        "class Practice_Hitblow():\n",
        "    def __init__(self, Seed, tree_list):\n",
        "        self.Seed = Seed\n",
        "        self.tree_list = tree_list\n",
        "\n",
        "    def pat_as_chr(self, pat, chr_list):\n",
        "        if chr_list == None: return pat\n",
        "        return tuple(map(lambda x: chr_list[x], pat))\n",
        "\n",
        "    def convert_tree_to_graph(self, tree_list, graph, name_dict, chr_list=None):\n",
        "        for i, node in enumerate(tree_list[:-1]):\n",
        "            if i == 0: continue\n",
        "            if type(node) == tuple:\n",
        "                vis_node = node\n",
        "            elif type(node) == list:\n",
        "                vis_node = node[-1]\n",
        "            else:\n",
        "                continue\n",
        "\n",
        "            if vis_node in name_dict:\n",
        "                name_dict[vis_node] += 1\n",
        "            else:\n",
        "                name_dict[vis_node] = 1\n",
        "\n",
        "            parent_draw_node = self.pat_as_chr(tree_list[-1], chr_list)\n",
        "            vis_draw_node = self.pat_as_chr(vis_node, chr_list)\n",
        "            hb = self.Seed.judge_pat_list[i]\n",
        "\n",
        "            graph.edge(str(parent_draw_node)+chr(96+name_dict[tree_list[-1]]), str(vis_draw_node)+chr(96+name_dict[vis_node]), \"{0}H{1}B\".format(hb[0], hb[1]))\n",
        "            if tree_list[-1] != tree_list[0]: graph.node(str(parent_draw_node)+chr(96+name_dict[tree_list[-1]]), shape=\"doublecircle\")\n",
        "            if type(node) == list: self.convert_tree_to_graph(node, graph, name_dict, chr_list)\n",
        "\n",
        "    def export_as_graph(self, name, chr_list=None, graph_layout=\"dot\"):\n",
        "        graph = Digraph(format=\"png\", engine=graph_layout)\n",
        "        graph.attr('node', shape='circle')\n",
        "        self.convert_tree_to_graph(self.tree_list, graph, {self.tree_list[-1]: 1}, chr_list)\n",
        "        \n",
        "        graph.render(name)\n",
        "        graph.view()\n",
        "    \n",
        "    def process_queries(self, make_random=True, tree_list = None):\n",
        "        hit, blow = -1, -1\n",
        "\n",
        "        chr_list = list(range(self.Seed.num_size))\n",
        "        if make_random == True:\n",
        "            random.shuffle(chr_list)\n",
        "        elif type(make_random) == list:\n",
        "            chr_list = make_random\n",
        "\n",
        "        if tree_list == None: tree_list = self.tree_list\n",
        "        query_temp = tree_list[-1]\n",
        "        query = tuple(map(lambda x: chr_list[x], query_temp))\n",
        "        print(\"Answer this:\", query)\n",
        "        while True:\n",
        "            try:\n",
        "                hit, blow = map(int, input(\"result (like: hit blow):\").split())\n",
        "                index = self.Seed.judge_pat_dict[(hit, blow)]\n",
        "                child = tree_list[index]\n",
        "                if child == None: raise Exception()\n",
        "                elif type(child) == list:\n",
        "                    self.process_queries(child, chr_list)\n",
        "                else:\n",
        "                    if self.Seed.judge_pat_dict[(hit, blow)] == 0:\n",
        "                        print(\"That's all.\")\n",
        "                    else:\n",
        "                        query = tuple(map(lambda x: chr_list[x], child))\n",
        "                        print(\"Answer this:\", query)\n",
        "                        print(\"That's all.\")\n",
        "                    \n",
        "            except:\n",
        "                print(\"Wrong input\")\n",
        "                print()\n",
        "            else:\n",
        "                break\n",
        "    \n",
        "    def count_by_depth(self, tree_list = None, max_depth=-1):\n",
        "        if max_depth == -1: max_depth = self.Seed.meajure_tree_max_depth(self.tree_list)\n",
        "        if tree_list == None: tree_list = self.tree_list\n",
        "        depth_list = [0]*(max_depth+1)\n",
        "        \n",
        "        tree0 = tree_list[0]\n",
        "        if type(tree0) == tuple:\n",
        "            depth_list[1] += 1\n",
        "        for tree in tree_list[1:-1]:\n",
        "            if type(tree) == tuple:\n",
        "                depth_list[2] += 1\n",
        "            elif type(tree) == list:\n",
        "                child_depth_list = self.count_by_depth(tree, max_depth-1)\n",
        "                for i in range(max_depth):\n",
        "                    depth_list[i+1] += child_depth_list[i]\n",
        "                    \n",
        "        return depth_list\n"
      ]
    },
    {
      "cell_type": "markdown",
      "source": [
        "#### サンプル\n",
        "\n",
        "3桁×6種の場合について木の深さとその数をグラフにプロットする。\n",
        "\n"
      ],
      "metadata": {
        "id": "Pwx8IFrrzA4V"
      }
    },
    {
      "cell_type": "code",
      "source": [
        "Seed = Analyze_Seed(3, 6)\n",
        "AH = Analyze_Hitblow(Seed, 5)\n",
        "\n",
        "tree_list, params = AH.analyze_fastest_tree()\n",
        "\n",
        "print(params)\n",
        "PH = Practice_Hitblow(Seed, tree_list)\n",
        "depth_list = PH.count_by_depth()\n",
        "\n",
        "plt.xlabel(\"depth\")\n",
        "plt.ylabel(\"count\")\n",
        "plt.bar(np.arange(1, len(depth_list)), depth_list[1:])"
      ],
      "metadata": {
        "colab": {
          "base_uri": "https://localhost:8080/",
          "height": 365
        },
        "id": "TEFTntIpy74U",
        "outputId": "3ed8a62a-a267-456a-bf4d-5fdda2e850ed"
      },
      "execution_count": 25,
      "outputs": [
        {
          "output_type": "stream",
          "name": "stdout",
          "text": [
            "initialize completed\n",
            "analyze completed\n",
            "params setted\n",
            "{'max_depth': 5, 'depth_sum': 479, 'node_num': 120, 'depth_mean': 3.9916666666666667, 'elapsed_time(s)': 0.4023425579071045}\n"
          ]
        },
        {
          "output_type": "execute_result",
          "data": {
            "text/plain": [
              "<BarContainer object of 5 artists>"
            ]
          },
          "metadata": {},
          "execution_count": 25
        },
        {
          "output_type": "display_data",
          "data": {
            "text/plain": [
              "<Figure size 432x288 with 1 Axes>"
            ],
            "image/png": "[encoded data removed]"
          },
          "metadata": {
            "needs_background": "light"
          }
        }
      ]
    },
    {
      "cell_type": "markdown",
      "source": [
        "## 解析結果\n",
        "\n",
        "以下の解析結果について示す。\n",
        "\n",
        "1. n桁×m種の場合について必要最小手数の変化を調べた。\n",
        "2. 3桁×10種、4桁×6種の場合についてそれぞれ最小期待値手数となる手順を求めた。"
      ],
      "metadata": {
        "id": "WUKmfNjnAd9r"
      }
    },
    {
      "cell_type": "markdown",
      "source": [
        "### n桁×m種の場合による必要最小手数の変化"
      ],
      "metadata": {
        "id": "CFeobd2FBcQ0"
      }
    },
    {
      "cell_type": "code",
      "execution_count": 26,
      "metadata": {
        "colab": {
          "base_uri": "https://localhost:8080/"
        },
        "id": "HB7shKvxEhjG",
        "outputId": "2991cb97-f177-486d-c1c5-b6627d790c58"
      },
      "outputs": [
        {
          "output_type": "stream",
          "name": "stdout",
          "text": [
            "initialize completed\n",
            "analyze completed\n",
            "params setted\n",
            "2 2 max_depth = 2\n",
            "elapsed time = 0.0003440380096435547 s\n",
            "\n",
            "initialize completed\n",
            "analyze completed\n",
            "params setted\n",
            "2 3 max_depth = 3\n",
            "elapsed time = 0.00016999244689941406 s\n",
            "\n",
            "initialize completed\n",
            "analyze completed\n",
            "params setted\n",
            "2 4 max_depth = 3\n",
            "elapsed time = 0.00067901611328125 s\n",
            "\n",
            "initialize completed\n",
            "analyze completed\n",
            "params setted\n",
            "2 5 max_depth = 4\n",
            "elapsed time = 0.0007996559143066406 s\n",
            "\n",
            "initialize completed\n",
            "analyze completed\n",
            "params setted\n",
            "2 6 max_depth = 4\n",
            "elapsed time = 0.006869792938232422 s\n",
            "\n",
            "initialize completed\n",
            "analyze completed\n",
            "params setted\n",
            "2 7 max_depth = 5\n",
            "elapsed time = 0.023087501525878906 s\n",
            "\n",
            "initialize completed\n",
            "analyze completed\n",
            "params setted\n",
            "2 8 max_depth = 5\n",
            "elapsed time = 0.10662007331848145 s\n",
            "\n",
            "initialize completed\n",
            "analyze completed\n",
            "params setted\n",
            "2 9 max_depth = 6\n",
            "elapsed time = 0.20297646522521973 s\n",
            "\n",
            "initialize completed\n",
            "analyze completed\n",
            "params setted\n",
            "2 10 max_depth = 6\n",
            "elapsed time = 0.4099576473236084 s\n",
            "\n",
            "initialize completed\n",
            "analyze completed\n",
            "params setted\n",
            "3 3 max_depth = 4\n",
            "elapsed time = 0.00022268295288085938 s\n",
            "\n",
            "initialize completed\n",
            "analyze completed\n",
            "params setted\n",
            "3 4 max_depth = 4\n",
            "elapsed time = 0.003155231475830078 s\n",
            "\n",
            "initialize completed\n",
            "analyze completed\n",
            "params setted\n",
            "3 5 max_depth = 4\n",
            "elapsed time = 0.03035116195678711 s\n",
            "\n",
            "initialize completed\n",
            "analyze completed\n",
            "params setted\n",
            "3 6 max_depth = 5\n",
            "elapsed time = 0.406688928604126 s\n",
            "\n",
            "initialize completed\n",
            "analyze completed\n",
            "params setted\n",
            "3 7 max_depth = 5\n",
            "elapsed time = 1.7769672870635986 s\n",
            "\n",
            "initialize completed\n",
            "analyze completed\n",
            "params setted\n",
            "3 8 max_depth = 6\n",
            "elapsed time = 19.406330108642578 s\n",
            "\n",
            "initialize completed\n",
            "analyze completed\n",
            "params setted\n",
            "3 9 max_depth = 6\n",
            "elapsed time = 66.69215846061707 s\n",
            "\n",
            "initialize completed\n",
            "elapsed time = 600.0 s\n",
            "loop_count = 337599\n",
            "registed count = 463\n",
            "\n",
            "analyze completed\n",
            "params setted\n",
            "3 10 max_depth = 7\n",
            "elapsed time = 829.0208613872528 s\n",
            "\n",
            "initialize completed\n",
            "analyze completed\n",
            "params setted\n",
            "4 4 max_depth = 5\n",
            "elapsed time = 0.004637002944946289 s\n",
            "\n",
            "initialize completed\n",
            "analyze completed\n",
            "params setted\n",
            "4 5 max_depth = 5\n",
            "elapsed time = 1.0012519359588623 s\n",
            "\n",
            "initialize completed\n",
            "analyze completed\n",
            "params setted\n",
            "4 6 max_depth = 5\n",
            "elapsed time = 59.68393278121948 s\n",
            "\n",
            "initialize completed\n",
            "elapsed time = 600.0 s\n",
            "loop_count = 151600\n",
            "registed count = 377\n",
            "\n",
            "elapsed time = 1200.0 s\n",
            "loop_count = 342760\n",
            "registed count = 709\n",
            "\n",
            "analyze completed\n",
            "params setted\n",
            "4 7 max_depth = 6\n",
            "elapsed time = 1349.2994322776794 s\n",
            "\n",
            "initialize completed\n",
            "initialize completed\n",
            "analyze completed\n",
            "params setted\n",
            "5 5 max_depth = 6\n",
            "elapsed time = 2.0712673664093018 s\n",
            "\n",
            "initialize completed\n",
            "elapsed time = 600.0 s\n",
            "loop_count = 156710\n",
            "registed count = 73\n",
            "\n",
            "elapsed time = 1200.0 s\n",
            "loop_count = 330137\n",
            "registed count = 169\n",
            "\n",
            "elapsed time = 1800.0 s\n",
            "loop_count = 534421\n",
            "registed count = 257\n",
            "\n",
            "elapsed time = 2400.0 s\n",
            "loop_count = 735719\n",
            "registed count = 266\n",
            "\n",
            "elapsed time = 3000.0 s\n",
            "loop_count = 935727\n",
            "registed count = 306\n",
            "\n",
            "elapsed time = 3600.0 s\n",
            "loop_count = 1163133\n",
            "registed count = 645\n",
            "\n",
            "analyze completed\n",
            "params setted\n",
            "5 6 max_depth = 6\n",
            "elapsed time = 3749.3296270370483 s\n",
            "\n",
            "initialize completed\n",
            "------------------------------\n",
            "\n",
            "[[-1, -1, -1, -1, -1, -1, -1, -1, -1, -1, -1], [-1, -1, -1, -1, -1, -1, -1, -1, -1, -1, -1], [-1, -1, 2, 3, 3, 4, 4, 5, 5, 6, 6], [-1, -1, -1, 4, 4, 4, 5, 5, 6, 6, 7], [-1, -1, -1, -1, 5, 5, 5, 6, -1, -1, -1], [-1, -1, -1, -1, -1, 6, 6, -1, -1, -1, -1], [-1, -1, -1, -1, -1, -1, -1, -1, -1, -1, -1]]\n"
          ]
        }
      ],
      "source": [
        "depth_list = [[-1]*11 for _ in range(7)]\n",
        "elapsed_time_list = [[-1]*11 for _ in range(7)]\n",
        "for i in range(2, 6):\n",
        "    for j in range(i, 11):\n",
        "        \n",
        "        Seed = Analyze_Seed(i, j)\n",
        "        AH = Analyze_Hitblow(Seed, 600)\n",
        "        if AH.Seed.pat_length > 840: break\n",
        "        tree_list, params = AH.analyze_fastest_tree()\n",
        "\n",
        "        \n",
        "        depth_list[i][j] = params[\"max_depth\"]\n",
        "        elapsed_time_list[i][j] = params[\"elapsed_time(s)\"]\n",
        "\n",
        "        print(i, j, \"max_depth =\", params[\"max_depth\"])\n",
        "        print(\"elapsed time =\", params[\"elapsed_time(s)\"], \"s\")\n",
        "        print()\n",
        "\n",
        "print(\"-\"*30)\n",
        "print()\n",
        "print(depth_list)"
      ]
    },
    {
      "cell_type": "code",
      "execution_count": 29,
      "metadata": {
        "id": "pECWO_nfsdr-",
        "colab": {
          "base_uri": "https://localhost:8080/",
          "height": 570
        },
        "outputId": "cbb7fb0a-1156-47e0-f94b-f787e8a1f5fc"
      },
      "outputs": [
        {
          "output_type": "execute_result",
          "data": {
            "text/plain": [
              "<matplotlib.legend.Legend at 0x7ffa3b5ec6d0>"
            ]
          },
          "metadata": {},
          "execution_count": 29
        },
        {
          "output_type": "display_data",
          "data": {
            "text/plain": [
              "<Figure size 864x576 with 1 Axes>"
            ],
            "image/png": "[encoded data removed]"
          },
          "metadata": {
            "needs_background": "light"
          }
        }
      ],
      "source": [
        "for i in range(2, 6):\n",
        "    data = np.array(depth_list[i])\n",
        "    x = np.arange(11, dtype=object)\n",
        "    x[data == -1] = None\n",
        "    #print(x, data)\n",
        "    plt.plot(x, data, \"-o\", label=\"digits = {0}\".format(i))\n",
        "\n",
        "plt.xlabel(\"num_size\")\n",
        "plt.ylabel(\"min_depth\")\n",
        "plt.grid()\n",
        "plt.legend()"
      ]
    },
    {
      "cell_type": "code",
      "source": [
        "for i in range(2, 6):\n",
        "    data = np.array(elapsed_time_list[i])\n",
        "    x = np.arange(11, dtype=object)\n",
        "    x[data == -1] = None\n",
        "    #print(x, data)\n",
        "    plt.plot(x, data, \"-o\", label=\"digits = {0}\".format(i))\n",
        "\n",
        "plt.yscale(\"log\")\n",
        "plt.xlabel(\"num_size\")\n",
        "plt.ylabel(\"elapsed_time(s)\")\n",
        "plt.grid()\n",
        "plt.legend()"
      ],
      "metadata": {
        "id": "FOwO6yB5Iv1x",
        "colab": {
          "base_uri": "https://localhost:8080/",
          "height": 570
        },
        "outputId": "8578a7f7-9f82-464e-f842-277145cf3051"
      },
      "execution_count": 30,
      "outputs": [
        {
          "output_type": "execute_result",
          "data": {
            "text/plain": [
              "<matplotlib.legend.Legend at 0x7ffa4698ef50>"
            ]
          },
          "metadata": {},
          "execution_count": 30
        },
        {
          "output_type": "display_data",
          "data": {
            "text/plain": [
              "<Figure size 864x576 with 1 Axes>"
            ],
            "image/png": "[encoded data removed]"
          },
          "metadata": {
            "needs_background": "light"
          }
        }
      ]
    },
    {
      "cell_type": "markdown",
      "source": [
        "### 最小期待値手数"
      ],
      "metadata": {
        "id": "oaiKkeIBEdI0"
      }
    },
    {
      "cell_type": "markdown",
      "source": [
        "#### 3桁×10種のHitBlow"
      ],
      "metadata": {
        "id": "XiTSo4d8JYe4"
      }
    },
    {
      "cell_type": "code",
      "execution_count": null,
      "metadata": {
        "id": "b7LK2nrmVSCV",
        "colab": {
          "base_uri": "https://localhost:8080/"
        },
        "outputId": "2411bbbb-7bee-4cee-b542-ceffa3667c33"
      },
      "outputs": [
        {
          "output_type": "stream",
          "name": "stdout",
          "text": [
            "initialize completed\n",
            "elapsed time = 1800.0 s\n",
            "loop_count = 1420283\n",
            "registed count = 191\n",
            "\n",
            "elapsed time = 3600.0 s\n",
            "loop_count = 2815127\n",
            "registed count = 444\n",
            "\n",
            "elapsed time = 5400.0 s\n",
            "loop_count = 3942704\n",
            "registed count = 506\n",
            "\n",
            "elapsed time = 7200.0 s\n",
            "loop_count = 4944919\n",
            "registed count = 507\n",
            "\n",
            "elapsed time = 9000.0 s\n",
            "loop_count = 5894338\n",
            "registed count = 507\n",
            "\n",
            "elapsed time = 10800.0 s\n",
            "loop_count = 7106700\n",
            "registed count = 507\n",
            "\n",
            "elapsed time = 12600.0 s\n",
            "loop_count = 8397934\n",
            "registed count = 507\n",
            "\n",
            "elapsed time = 14400.0 s\n",
            "loop_count = 9371211\n",
            "registed count = 507\n",
            "\n",
            "elapsed time = 16200.0 s\n",
            "loop_count = 10304531\n",
            "registed count = 507\n",
            "\n",
            "elapsed time = 18000.0 s\n",
            "loop_count = 11089399\n",
            "registed count = 507\n",
            "\n",
            "elapsed time = 19800.0 s\n",
            "loop_count = 12039865\n",
            "registed count = 716\n",
            "\n",
            "elapsed time = 21600.0 s\n",
            "loop_count = 13007815\n",
            "registed count = 717\n",
            "\n",
            "analyze completed\n",
            "params setted\n"
          ]
        },
        {
          "output_type": "execute_result",
          "data": {
            "text/plain": [
              "{'depth_mean': 5.0152777777777775,\n",
              " 'depth_sum': 3611,\n",
              " 'elapsed_time(s)': 23273.83597636223,\n",
              " 'max_depth': 7,\n",
              " 'node_num': 720}"
            ]
          },
          "metadata": {},
          "execution_count": 8
        }
      ],
      "source": [
        "n, m = 3, 10\n",
        "Seed = Analyze_Seed(n, m)\n",
        "AH = Analyze_Hitblow(Seed, 1800)\n",
        "\n",
        "tree_list, params = AH.analyze_earnest_tree()\n",
        "\n",
        "params"
      ]
    },
    {
      "cell_type": "code",
      "source": [
        "DH = Practice_Hitblow(Seed, tree_list)\n",
        "DH.export_as_graph(\"3_10_earnest_tree\")"
      ],
      "metadata": {
        "id": "0cfRmg3pJoVF",
        "colab": {
          "base_uri": "https://localhost:8080/"
        },
        "outputId": "725ff577-9ede-4131-f76e-28da20e7efdf"
      },
      "execution_count": null,
      "outputs": [
        {
          "output_type": "stream",
          "name": "stderr",
          "text": [
            "dot: graph is too large for cairo-renderer bitmaps. Scaling by 0.550133 to fit\n",
            "dot: graph is too large for cairo-renderer bitmaps. Scaling by 0.550133 to fit\n"
          ]
        }
      ]
    },
    {
      "cell_type": "markdown",
      "source": [
        "#### 4桁×6種のHitBlow"
      ],
      "metadata": {
        "id": "lE54dOKdKHdT"
      }
    },
    {
      "cell_type": "code",
      "source": [
        "n, m = 4, 6\n",
        "\n",
        "Seed = Analyze_Seed(n, m)\n",
        "AH = Analyze_Hitblow(Seed, 60)\n",
        "\n",
        "tree_list, params = AH.analyze_earnest_tree()\n",
        "\n",
        "params"
      ],
      "metadata": {
        "colab": {
          "base_uri": "https://localhost:8080/"
        },
        "id": "wpKLbyp_PjKm",
        "outputId": "36a864a7-e5f2-497f-f057-96a50bc23e2b"
      },
      "execution_count": 31,
      "outputs": [
        {
          "output_type": "stream",
          "name": "stdout",
          "text": [
            "initialize completed\n",
            "elapsed time = 60.0 s\n",
            "loop_count = 52061\n",
            "registed count = 182\n",
            "\n",
            "elapsed time = 120.0 s\n",
            "loop_count = 108677\n",
            "registed count = 265\n",
            "\n",
            "elapsed time = 180.0 s\n",
            "loop_count = 169640\n",
            "registed count = 266\n",
            "\n",
            "elapsed time = 240.0 s\n",
            "loop_count = 234971\n",
            "registed count = 322\n",
            "\n",
            "elapsed time = 300.0 s\n",
            "loop_count = 302841\n",
            "registed count = 354\n",
            "\n",
            "analyze completed\n",
            "params setted\n"
          ]
        },
        {
          "output_type": "execute_result",
          "data": {
            "text/plain": [
              "{'depth_mean': 4.086111111111111,\n",
              " 'depth_sum': 1471,\n",
              " 'elapsed_time(s)': 301.8919677734375,\n",
              " 'max_depth': 5,\n",
              " 'node_num': 360}"
            ]
          },
          "metadata": {},
          "execution_count": 31
        }
      ]
    },
    {
      "cell_type": "code",
      "execution_count": 32,
      "metadata": {
        "id": "hVXl2H_5Qcgw",
        "colab": {
          "base_uri": "https://localhost:8080/",
          "height": 605
        },
        "outputId": "24fc914f-5906-4126-d4f1-9fba23416c5e"
      },
      "outputs": [
        {
          "output_type": "stream",
          "name": "stderr",
          "text": [
            "dot: graph is too large for cairo-renderer bitmaps. Scaling by 0.959277 to fit\n",
            "dot: graph is too large for cairo-renderer bitmaps. Scaling by 0.959277 to fit\n"
          ]
        },
        {
          "output_type": "execute_result",
          "data": {
            "text/plain": [
              "<BarContainer object of 5 artists>"
            ]
          },
          "metadata": {},
          "execution_count": 32
        },
        {
          "output_type": "display_data",
          "data": {
            "text/plain": [
              "<Figure size 864x576 with 1 Axes>"
            ],
            "image/png": "[encoded data removed]"
          },
          "metadata": {
            "needs_background": "light"
          }
        }
      ],
      "source": [
        "DH = Practice_Hitblow(Seed, tree_list)\n",
        "DH.export_as_graph(\"4_6_earnest_tree\", list(range(1, 7)))\n",
        "depth_list = PH.count_by_depth()\n",
        "\n",
        "plt.xlabel(\"depth\")\n",
        "plt.ylabel(\"count\")\n",
        "plt.bar(np.arange(1, len(depth_list)), depth_list[1:])"
      ]
    },
    {
      "cell_type": "markdown",
      "source": [
        "### 主要なHitBlowの結果パラメータ\n",
        "\n",
        "find_earnest_treeの解析によって得られたパラメータを示す。"
      ],
      "metadata": {
        "id": "zAl9UKNkKeQt"
      }
    },
    {
      "cell_type": "markdown",
      "metadata": {
        "id": "j3HwYZxmEiOq"
      },
      "source": [
        "- 4桁×6種: \n",
        "{'max_depth': 5, 'depth_sum': 1471, 'node_num': 360, 'depth_mean': 4.086111111111111}\n",
        "\n",
        "- 3桁×9種: \n",
        "{'max_depth': 6, 'depth_sum': 2368, 'node_num': 504, 'depth_mean': 4.698412698412699}\n",
        "\n",
        "- 3桁×10種: \n",
        "{'max_depth': 7, 'depth_sum': 3611, 'node_num': 720, 'depth_mean': 5.0152777777777775}\n"
      ]
    }
  ],
  "metadata": {
    "colab": {
      "collapsed_sections": [
        "jPeUkvze_ead",
        "WT8o_mQb_zkl",
        "Upda8PMSJy1w",
        "Pwx8IFrrzA4V",
        "CFeobd2FBcQ0",
        "lE54dOKdKHdT"
      ],
      "name": "hit_brow.ipynb",
      "provenance": [],
      "include_colab_link": true
    },
    "kernelspec": {
      "display_name": "Python 3",
      "language": "python",
      "name": "python3"
    },
    "language_info": {
      "codemirror_mode": {
        "name": "ipython",
        "version": 3
      },
      "file_extension": ".py",
      "mimetype": "text/x-python",
      "name": "python",
      "nbconvert_exporter": "python",
      "pygments_lexer": "ipython3",
      "version": "3.8.5"
    }
  },
  "nbformat": 4,
  "nbformat_minor": 0
}